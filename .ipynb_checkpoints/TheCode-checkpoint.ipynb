{
 "cells": [
  {
   "cell_type": "code",
   "execution_count": 2,
   "metadata": {},
   "outputs": [],
   "source": [
    "#Dependencies\n",
    "import requests\n",
    "import json\n",
    "import pandas as pd\n",
    "import numpy as np\n",
    "import matplotlib.pyplot as plt\n",
    "from collections import deque"
   ]
  },
  {
   "cell_type": "code",
   "execution_count": 3,
   "metadata": {},
   "outputs": [],
   "source": [
    "# tv maze show search base url (this is to search for individual shows)\n",
    "base_url = \"http://api.tvmaze.com/search/shows?q=\""
   ]
  },
  {
   "cell_type": "code",
   "execution_count": null,
   "metadata": {},
   "outputs": [],
   "source": [
    "#Question 1\n",
    "#Which Network, on average, have the highest TV show rating?\n",
    "\n",
    "#URL for all primary information for every show in the database\n",
    "q1URL = \"http://api.tvmaze.com/shows?page=\"\n",
    "pages = [\"0\",\"1\",\"2\",\"3\",\"4\",\"5\",\"6\", \"7\", \"8\", \"9\"]\n",
    "recordnum=1\n",
    "\n",
    "networks = []\n",
    "ratings= []\n",
    "ids = []\n",
    "\n",
    "\n",
    "\n",
    "\n",
    "#this is currently just pulling the first show from every page... \n",
    "#note, every page has up to 250 IDs. First page, page 0, starts at ID 0\n",
    "#how to get it to pull the rest of the shows from the pages?\n",
    "for page in pages:\n",
    "    target_urlq1 = q1URL + page\n",
    "    response =requests.get(target_urlq1).json()\n",
    "    ids.append(response[0]['id'])\n",
    "    networks.append(response[0]['network']['name'])\n",
    "    ratings.append(response[0]['rating']['average'])\n",
    "    \n",
    "#associating IDs which are the only unique value in the API with network names and ratings so that we could merge the dictionaries later?    \n",
    "zip_it1 = zip(ids, networks)\n",
    "zip_it2 = zip(ids, ratings)\n",
    "dictionary1 = dict(zip_it1)\n",
    "dictionary2 = dict(zip_it2)\n",
    "   \n",
    "    \n",
    "   "
   ]
  },
  {
   "cell_type": "code",
   "execution_count": null,
   "metadata": {
    "scrolled": true
   },
   "outputs": [],
   "source": [
    "#Question 1\n",
    "#create df \n",
    "quest1df = pd.DataFrame({'IDs': ids, \"Networks\": networks, \"Ratings\": ratings})\n",
    "quest1df\n",
    "\n",
    "network_count=len(quest1df[\"Networks\"].unique())\n",
    "\n",
    "print(f\"There is a total of {network_count} Networks\")\n",
    "\n",
    "ratings_count= len(quest1df[\"Ratings\"].unique())\n",
    "\n",
    "print(f\"There is a total of {ratings_count} tv shows that were rated\")"
   ]
  },
  {
   "cell_type": "code",
   "execution_count": null,
   "metadata": {},
   "outputs": [],
   "source": [
    "# Question 1\n",
    "# create summary statistics\n",
    "\n",
    "\n",
    "mean=quest1df.groupby([\"Networks\"]).mean()[\"Ratings\"]\n",
    "median=quest1df.groupby([\"Networks\"]).median()[\"Ratings\"]\n",
    "variance=quest1df.groupby([\"Networks\"]).var()[\"Ratings\"]\n",
    "sd=quest1df.groupby([\"Networks\"]).std()[\"Ratings\"]\n",
    "sem=quest1df.groupby([\"Networks\"]).sem()[\"Ratings\"]\n",
    "\n",
    "analysis_df=pd.DataFrame({\"mean network rating\":mean,\"median network rating\":median,\"variance\":variance, \"SD\": sd, \"SEM\": sem})\n",
    "\n",
    "# Format\n",
    "\n",
    "analysis_df=analysis_df.round(2)\n",
    "\n",
    "analysis_df"
   ]
  },
  {
   "cell_type": "code",
   "execution_count": null,
   "metadata": {},
   "outputs": [],
   "source": [
    "#Question 2\n",
    "#Which TV Show Genres are the most popular?"
   ]
  },
  {
   "cell_type": "code",
   "execution_count": null,
   "metadata": {},
   "outputs": [],
   "source": [
    "#Question 3\n",
    "#Which show has the longest running season?"
   ]
  },
  {
   "cell_type": "code",
   "execution_count": null,
   "metadata": {},
   "outputs": [],
   "source": [
    "#Question 4\n",
    "#Which day of the week has a higher average TV show rating?"
   ]
  }
 ],
 "metadata": {
  "kernelspec": {
   "display_name": "Python 3",
   "language": "python",
   "name": "python3"
  },
  "language_info": {
   "codemirror_mode": {
    "name": "ipython",
    "version": 3
   },
   "file_extension": ".py",
   "mimetype": "text/x-python",
   "name": "python",
   "nbconvert_exporter": "python",
   "pygments_lexer": "ipython3",
   "version": "3.8.3"
  }
 },
 "nbformat": 4,
 "nbformat_minor": 4
}
